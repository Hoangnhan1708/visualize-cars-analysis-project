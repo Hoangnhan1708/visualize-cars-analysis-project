{
 "cells": [
  {
   "cell_type": "markdown",
   "metadata": {},
   "source": [
    "<div style=\"text-align: center; background-color: #0A6EBD; font-family: 'Trebuchet MS', Arial, sans-serif; color: white; padding: 20px; font-size: 40px; font-weight: bold; border-radius: 0 0 0 0; box-shadow: 0px 6px 8px rgba(0, 0, 0, 0.2);\">\n",
    "  Lab 01 - Data visualization with Python @ FIT-HCMUS, VNU-HCM 📌\n",
    "</div>"
   ]
  },
  {
   "cell_type": "markdown",
   "metadata": {},
   "source": [
    "<div style=\"text-align: center; background-color: #b1d1ff; font-family: 'Trebuchet MS', Arial, sans-serif; color: white; padding: 20px; font-size: 40px; font-weight: bold; border-radius: 0 0 0 0; box-shadow: 0px 6px 8px rgba(0, 0, 0, 0.2);\">\n",
    "  Stage 02 - Data exploration 📌\n",
    "</div>"
   ]
  },
  {
   "cell_type": "markdown",
   "metadata": {},
   "source": [
    "# Import các thư viện cần thiết"
   ]
  },
  {
   "cell_type": "code",
   "execution_count": 1,
   "metadata": {},
   "outputs": [],
   "source": [
    "import pandas as pd\n",
    "import numpy as np\n",
    "import seaborn as sns\n",
    "import matplotlib.pyplot as plt"
   ]
  },
  {
   "cell_type": "markdown",
   "metadata": {},
   "source": [
    "# Khám phá dữ liệu"
   ]
  },
  {
   "cell_type": "markdown",
   "metadata": {},
   "source": [
    "### Đọc dữ liệu từ file"
   ]
  },
  {
   "cell_type": "code",
   "execution_count": 2,
   "metadata": {},
   "outputs": [],
   "source": [
    "raw_df = None\n",
    "raw_df = pd.read_csv('../data/raw/used_cars_data.csv')"
   ]
  },
  {
   "cell_type": "code",
   "execution_count": 3,
   "metadata": {},
   "outputs": [
    {
     "data": {
      "text/html": [
       "<div>\n",
       "<style scoped>\n",
       "    .dataframe tbody tr th:only-of-type {\n",
       "        vertical-align: middle;\n",
       "    }\n",
       "\n",
       "    .dataframe tbody tr th {\n",
       "        vertical-align: top;\n",
       "    }\n",
       "\n",
       "    .dataframe thead th {\n",
       "        text-align: right;\n",
       "    }\n",
       "</style>\n",
       "<table border=\"1\" class=\"dataframe\">\n",
       "  <thead>\n",
       "    <tr style=\"text-align: right;\">\n",
       "      <th></th>\n",
       "      <th>S.No.</th>\n",
       "      <th>Name</th>\n",
       "      <th>Location</th>\n",
       "      <th>Year</th>\n",
       "      <th>Kilometers_Driven</th>\n",
       "      <th>Fuel_Type</th>\n",
       "      <th>Transmission</th>\n",
       "      <th>Owner_Type</th>\n",
       "      <th>Mileage</th>\n",
       "      <th>Engine</th>\n",
       "      <th>Power</th>\n",
       "      <th>Seats</th>\n",
       "      <th>New_Price</th>\n",
       "      <th>Price</th>\n",
       "    </tr>\n",
       "  </thead>\n",
       "  <tbody>\n",
       "    <tr>\n",
       "      <th>0</th>\n",
       "      <td>0</td>\n",
       "      <td>Maruti Wagon R LXI CNG</td>\n",
       "      <td>Mumbai</td>\n",
       "      <td>2010</td>\n",
       "      <td>72000</td>\n",
       "      <td>CNG</td>\n",
       "      <td>Manual</td>\n",
       "      <td>First</td>\n",
       "      <td>26.6 km/kg</td>\n",
       "      <td>998 CC</td>\n",
       "      <td>58.16 bhp</td>\n",
       "      <td>5.0</td>\n",
       "      <td>NaN</td>\n",
       "      <td>1.75</td>\n",
       "    </tr>\n",
       "    <tr>\n",
       "      <th>1</th>\n",
       "      <td>1</td>\n",
       "      <td>Hyundai Creta 1.6 CRDi SX Option</td>\n",
       "      <td>Pune</td>\n",
       "      <td>2015</td>\n",
       "      <td>41000</td>\n",
       "      <td>Diesel</td>\n",
       "      <td>Manual</td>\n",
       "      <td>First</td>\n",
       "      <td>19.67 kmpl</td>\n",
       "      <td>1582 CC</td>\n",
       "      <td>126.2 bhp</td>\n",
       "      <td>5.0</td>\n",
       "      <td>NaN</td>\n",
       "      <td>12.50</td>\n",
       "    </tr>\n",
       "    <tr>\n",
       "      <th>2</th>\n",
       "      <td>2</td>\n",
       "      <td>Honda Jazz V</td>\n",
       "      <td>Chennai</td>\n",
       "      <td>2011</td>\n",
       "      <td>46000</td>\n",
       "      <td>Petrol</td>\n",
       "      <td>Manual</td>\n",
       "      <td>First</td>\n",
       "      <td>18.2 kmpl</td>\n",
       "      <td>1199 CC</td>\n",
       "      <td>88.7 bhp</td>\n",
       "      <td>5.0</td>\n",
       "      <td>8.61 Lakh</td>\n",
       "      <td>4.50</td>\n",
       "    </tr>\n",
       "    <tr>\n",
       "      <th>3</th>\n",
       "      <td>3</td>\n",
       "      <td>Maruti Ertiga VDI</td>\n",
       "      <td>Chennai</td>\n",
       "      <td>2012</td>\n",
       "      <td>87000</td>\n",
       "      <td>Diesel</td>\n",
       "      <td>Manual</td>\n",
       "      <td>First</td>\n",
       "      <td>20.77 kmpl</td>\n",
       "      <td>1248 CC</td>\n",
       "      <td>88.76 bhp</td>\n",
       "      <td>7.0</td>\n",
       "      <td>NaN</td>\n",
       "      <td>6.00</td>\n",
       "    </tr>\n",
       "    <tr>\n",
       "      <th>4</th>\n",
       "      <td>4</td>\n",
       "      <td>Audi A4 New 2.0 TDI Multitronic</td>\n",
       "      <td>Coimbatore</td>\n",
       "      <td>2013</td>\n",
       "      <td>40670</td>\n",
       "      <td>Diesel</td>\n",
       "      <td>Automatic</td>\n",
       "      <td>Second</td>\n",
       "      <td>15.2 kmpl</td>\n",
       "      <td>1968 CC</td>\n",
       "      <td>140.8 bhp</td>\n",
       "      <td>5.0</td>\n",
       "      <td>NaN</td>\n",
       "      <td>17.74</td>\n",
       "    </tr>\n",
       "    <tr>\n",
       "      <th>...</th>\n",
       "      <td>...</td>\n",
       "      <td>...</td>\n",
       "      <td>...</td>\n",
       "      <td>...</td>\n",
       "      <td>...</td>\n",
       "      <td>...</td>\n",
       "      <td>...</td>\n",
       "      <td>...</td>\n",
       "      <td>...</td>\n",
       "      <td>...</td>\n",
       "      <td>...</td>\n",
       "      <td>...</td>\n",
       "      <td>...</td>\n",
       "      <td>...</td>\n",
       "    </tr>\n",
       "    <tr>\n",
       "      <th>7248</th>\n",
       "      <td>7248</td>\n",
       "      <td>Volkswagen Vento Diesel Trendline</td>\n",
       "      <td>Hyderabad</td>\n",
       "      <td>2011</td>\n",
       "      <td>89411</td>\n",
       "      <td>Diesel</td>\n",
       "      <td>Manual</td>\n",
       "      <td>First</td>\n",
       "      <td>20.54 kmpl</td>\n",
       "      <td>1598 CC</td>\n",
       "      <td>103.6 bhp</td>\n",
       "      <td>5.0</td>\n",
       "      <td>NaN</td>\n",
       "      <td>NaN</td>\n",
       "    </tr>\n",
       "    <tr>\n",
       "      <th>7249</th>\n",
       "      <td>7249</td>\n",
       "      <td>Volkswagen Polo GT TSI</td>\n",
       "      <td>Mumbai</td>\n",
       "      <td>2015</td>\n",
       "      <td>59000</td>\n",
       "      <td>Petrol</td>\n",
       "      <td>Automatic</td>\n",
       "      <td>First</td>\n",
       "      <td>17.21 kmpl</td>\n",
       "      <td>1197 CC</td>\n",
       "      <td>103.6 bhp</td>\n",
       "      <td>5.0</td>\n",
       "      <td>NaN</td>\n",
       "      <td>NaN</td>\n",
       "    </tr>\n",
       "    <tr>\n",
       "      <th>7250</th>\n",
       "      <td>7250</td>\n",
       "      <td>Nissan Micra Diesel XV</td>\n",
       "      <td>Kolkata</td>\n",
       "      <td>2012</td>\n",
       "      <td>28000</td>\n",
       "      <td>Diesel</td>\n",
       "      <td>Manual</td>\n",
       "      <td>First</td>\n",
       "      <td>23.08 kmpl</td>\n",
       "      <td>1461 CC</td>\n",
       "      <td>63.1 bhp</td>\n",
       "      <td>5.0</td>\n",
       "      <td>NaN</td>\n",
       "      <td>NaN</td>\n",
       "    </tr>\n",
       "    <tr>\n",
       "      <th>7251</th>\n",
       "      <td>7251</td>\n",
       "      <td>Volkswagen Polo GT TSI</td>\n",
       "      <td>Pune</td>\n",
       "      <td>2013</td>\n",
       "      <td>52262</td>\n",
       "      <td>Petrol</td>\n",
       "      <td>Automatic</td>\n",
       "      <td>Third</td>\n",
       "      <td>17.2 kmpl</td>\n",
       "      <td>1197 CC</td>\n",
       "      <td>103.6 bhp</td>\n",
       "      <td>5.0</td>\n",
       "      <td>NaN</td>\n",
       "      <td>NaN</td>\n",
       "    </tr>\n",
       "    <tr>\n",
       "      <th>7252</th>\n",
       "      <td>7252</td>\n",
       "      <td>Mercedes-Benz E-Class 2009-2013 E 220 CDI Avan...</td>\n",
       "      <td>Kochi</td>\n",
       "      <td>2014</td>\n",
       "      <td>72443</td>\n",
       "      <td>Diesel</td>\n",
       "      <td>Automatic</td>\n",
       "      <td>First</td>\n",
       "      <td>10.0 kmpl</td>\n",
       "      <td>2148 CC</td>\n",
       "      <td>170 bhp</td>\n",
       "      <td>5.0</td>\n",
       "      <td>NaN</td>\n",
       "      <td>NaN</td>\n",
       "    </tr>\n",
       "  </tbody>\n",
       "</table>\n",
       "<p>7253 rows × 14 columns</p>\n",
       "</div>"
      ],
      "text/plain": [
       "      S.No.                                               Name    Location  \\\n",
       "0         0                             Maruti Wagon R LXI CNG      Mumbai   \n",
       "1         1                   Hyundai Creta 1.6 CRDi SX Option        Pune   \n",
       "2         2                                       Honda Jazz V     Chennai   \n",
       "3         3                                  Maruti Ertiga VDI     Chennai   \n",
       "4         4                    Audi A4 New 2.0 TDI Multitronic  Coimbatore   \n",
       "...     ...                                                ...         ...   \n",
       "7248   7248                  Volkswagen Vento Diesel Trendline   Hyderabad   \n",
       "7249   7249                             Volkswagen Polo GT TSI      Mumbai   \n",
       "7250   7250                             Nissan Micra Diesel XV     Kolkata   \n",
       "7251   7251                             Volkswagen Polo GT TSI        Pune   \n",
       "7252   7252  Mercedes-Benz E-Class 2009-2013 E 220 CDI Avan...       Kochi   \n",
       "\n",
       "      Year  Kilometers_Driven Fuel_Type Transmission Owner_Type     Mileage  \\\n",
       "0     2010              72000       CNG       Manual      First  26.6 km/kg   \n",
       "1     2015              41000    Diesel       Manual      First  19.67 kmpl   \n",
       "2     2011              46000    Petrol       Manual      First   18.2 kmpl   \n",
       "3     2012              87000    Diesel       Manual      First  20.77 kmpl   \n",
       "4     2013              40670    Diesel    Automatic     Second   15.2 kmpl   \n",
       "...    ...                ...       ...          ...        ...         ...   \n",
       "7248  2011              89411    Diesel       Manual      First  20.54 kmpl   \n",
       "7249  2015              59000    Petrol    Automatic      First  17.21 kmpl   \n",
       "7250  2012              28000    Diesel       Manual      First  23.08 kmpl   \n",
       "7251  2013              52262    Petrol    Automatic      Third   17.2 kmpl   \n",
       "7252  2014              72443    Diesel    Automatic      First   10.0 kmpl   \n",
       "\n",
       "       Engine      Power  Seats  New_Price  Price  \n",
       "0      998 CC  58.16 bhp    5.0        NaN   1.75  \n",
       "1     1582 CC  126.2 bhp    5.0        NaN  12.50  \n",
       "2     1199 CC   88.7 bhp    5.0  8.61 Lakh   4.50  \n",
       "3     1248 CC  88.76 bhp    7.0        NaN   6.00  \n",
       "4     1968 CC  140.8 bhp    5.0        NaN  17.74  \n",
       "...       ...        ...    ...        ...    ...  \n",
       "7248  1598 CC  103.6 bhp    5.0        NaN    NaN  \n",
       "7249  1197 CC  103.6 bhp    5.0        NaN    NaN  \n",
       "7250  1461 CC   63.1 bhp    5.0        NaN    NaN  \n",
       "7251  1197 CC  103.6 bhp    5.0        NaN    NaN  \n",
       "7252  2148 CC    170 bhp    5.0        NaN    NaN  \n",
       "\n",
       "[7253 rows x 14 columns]"
      ]
     },
     "execution_count": 3,
     "metadata": {},
     "output_type": "execute_result"
    }
   ],
   "source": [
    "raw_df"
   ]
  },
  {
   "cell_type": "markdown",
   "metadata": {},
   "source": [
    "### Xóa cột thứ tự không cần thiết"
   ]
  },
  {
   "cell_type": "code",
   "execution_count": 4,
   "metadata": {},
   "outputs": [],
   "source": [
    "raw_df = raw_df.drop('S.No.', axis=1)"
   ]
  },
  {
   "cell_type": "markdown",
   "metadata": {},
   "source": [
    "### Tạo thêm một cột Company name"
   ]
  },
  {
   "cell_type": "code",
   "execution_count": 5,
   "metadata": {},
   "outputs": [],
   "source": [
    "raw_df['Company name'] = raw_df['Name'].apply(lambda x: ' '.join(x.split()[:2]) if x.split()[0] in ['Mini', 'Land'] else x.split()[0])"
   ]
  },
  {
   "cell_type": "markdown",
   "metadata": {},
   "source": [
    "### Dữ liệu có bao nhiêu cột và bao nhiêu dòng?"
   ]
  },
  {
   "cell_type": "code",
   "execution_count": 6,
   "metadata": {},
   "outputs": [
    {
     "data": {
      "text/plain": [
       "(7253, 14)"
      ]
     },
     "execution_count": 6,
     "metadata": {},
     "output_type": "execute_result"
    }
   ],
   "source": [
    "shape = raw_df.shape\n",
    "shape"
   ]
  },
  {
   "cell_type": "markdown",
   "metadata": {},
   "source": [
    "### Ý nghĩa của mỗi dòng là gì?"
   ]
  },
  {
   "cell_type": "markdown",
   "metadata": {},
   "source": [
    "Mỗi dòng chứa các thông tin của mỗi chiếc xe đã qua sử dụng và được đăng bán lại như tên xe, địa điểm, năm đăng ký bán lại, các thuộc tính của xe, giá bán chủ yếu là các thành phố của Ấn Độ."
   ]
  },
  {
   "cell_type": "markdown",
   "metadata": {},
   "source": [
    "### Dữ liệu có dòng nào bị trùng lặp không?"
   ]
  },
  {
   "cell_type": "code",
   "execution_count": 7,
   "metadata": {},
   "outputs": [
    {
     "name": "stdout",
     "output_type": "stream",
     "text": [
      "Dữ liệu có 1 dòng bị trùng lặp . Vui lòng xóa các dòng đó!\n"
     ]
    }
   ],
   "source": [
    "num_duplicated_rows = None\n",
    "num_duplicated_rows = raw_df.duplicated().sum()\n",
    "#TEST\n",
    "if num_duplicated_rows == 0:\n",
    "    print(f\"Dữ liệu không có dòng nào trùng lặp!\")\n",
    "else:\n",
    "    print(f\"Dữ liệu có {num_duplicated_rows} dòng bị trùng lặp \"+ \". Vui lòng xóa các dòng đó!\")"
   ]
  },
  {
   "cell_type": "markdown",
   "metadata": {},
   "source": [
    "#### Xóa các dòng bị trùng lắp dữ liệu"
   ]
  },
  {
   "cell_type": "code",
   "execution_count": 8,
   "metadata": {},
   "outputs": [],
   "source": [
    "\n",
    "raw_df = raw_df.drop_duplicates()"
   ]
  },
  {
   "cell_type": "markdown",
   "metadata": {},
   "source": [
    "#### Kiểm tra lại"
   ]
  },
  {
   "cell_type": "code",
   "execution_count": 9,
   "metadata": {},
   "outputs": [
    {
     "name": "stdout",
     "output_type": "stream",
     "text": [
      "Dữ liệu không có dòng nào trùng lặp!\n"
     ]
    }
   ],
   "source": [
    "#TEST\n",
    "num_duplicated_rows = raw_df.duplicated().sum()\n",
    "if num_duplicated_rows == 0:\n",
    "    print(f\"Dữ liệu không có dòng nào trùng lặp!\")\n",
    "else:\n",
    "    print(f\"Dữ liệu có {num_duplicated_rows} dòng bị trùng lặp \"+ \". Vui lòng xóa các dòng đó!\")"
   ]
  },
  {
   "cell_type": "markdown",
   "metadata": {},
   "source": [
    "### Ý nghĩa của mỗi cột là gì?"
   ]
  },
  {
   "cell_type": "markdown",
   "metadata": {},
   "source": [
    "- Name: Tên của ô tô.\n",
    "- Location: Nơi đăng ký bán lại của ô tô đó.\n",
    "- Year: Năm đăng ký bán lại ô tô đó.\n",
    "- Kilometers_Driven: quãng đường(số km) mà xe đã đi.\n",
    "- Fuel_Type: Loại nhiên liệu xe sử dụng.\n",
    "- Transmission: Loại hộp số của xe.\n",
    "- Owner_Type: Người dùng đời thứ mấy của xe.\n",
    "- Mileage: Quãng đường mà xe đi được trong một đơn vị nhiên liệu như kmpl(kilometers per liter) hoặc km/kg.\n",
    "- Engine: Dung tích xi-lanh của động cơ xe sử dụng đơn vị là cc.\n",
    "- Power: Công xuất tối đa của xe sử dụng đơn vị là bhp (brake horsepower - đơn vị đo lường để mô tả lượng điện năng mà động cơ ô tô hoặc động cơ điện tạo ra để di chuyển nó).\n",
    "- Seats: Số chỗ ngồi của xe.\n",
    "- New_Price: Giá bán mới cập nhật của xe được sử dụng đơn vị Lakh (là một loại ngôn ngữ chỉ số lượng lớn trong ngôn ngữ Ấn Độ, 1 Lakh = 100000).\n",
    "- Price: Giá bán ban đầu của xe được sử dụng đơn vị Lakh."
   ]
  },
  {
   "cell_type": "markdown",
   "metadata": {},
   "source": [
    "### Mỗi cột có kiểu dữ liệu gì? Có cột nào có kiểu dữ liệu không phù hợp cho việc xử lí dữ liệu không?"
   ]
  },
  {
   "cell_type": "code",
   "execution_count": 10,
   "metadata": {},
   "outputs": [
    {
     "name": "stdout",
     "output_type": "stream",
     "text": [
      "<class 'pandas.core.frame.DataFrame'>\n",
      "Index: 7252 entries, 0 to 7252\n",
      "Data columns (total 14 columns):\n",
      " #   Column             Non-Null Count  Dtype  \n",
      "---  ------             --------------  -----  \n",
      " 0   Name               7252 non-null   object \n",
      " 1   Location           7252 non-null   object \n",
      " 2   Year               7252 non-null   int64  \n",
      " 3   Kilometers_Driven  7252 non-null   int64  \n",
      " 4   Fuel_Type          7252 non-null   object \n",
      " 5   Transmission       7252 non-null   object \n",
      " 6   Owner_Type         7252 non-null   object \n",
      " 7   Mileage            7250 non-null   object \n",
      " 8   Engine             7206 non-null   object \n",
      " 9   Power              7206 non-null   object \n",
      " 10  Seats              7199 non-null   float64\n",
      " 11  New_Price          1006 non-null   object \n",
      " 12  Price              6019 non-null   float64\n",
      " 13  Company name       7252 non-null   object \n",
      "dtypes: float64(2), int64(2), object(10)\n",
      "memory usage: 849.8+ KB\n"
     ]
    }
   ],
   "source": [
    "\n",
    "raw_df.info()\n"
   ]
  },
  {
   "cell_type": "markdown",
   "metadata": {},
   "source": [
    "- Ở cột Engine, Power và New_Price chủ yếu là kiểu float nhưng do có thêm kí tự đơn vị phía sau nên đang bị thuộc về loại categorical.\n",
    "- Cột Year nên thuộc loại categorical."
   ]
  },
  {
   "cell_type": "code",
   "execution_count": 11,
   "metadata": {},
   "outputs": [],
   "source": [
    "raw_df['Year'] = raw_df['Year'].astype('string')"
   ]
  },
  {
   "cell_type": "markdown",
   "metadata": {},
   "source": [
    "### Xử lý datatype cho 3 cột Engine, Power và New_Price"
   ]
  },
  {
   "cell_type": "code",
   "execution_count": 12,
   "metadata": {},
   "outputs": [],
   "source": [
    "raw_df['Engine'] = raw_df['Engine'].str.replace(' CC', '')\n",
    "raw_df['Power'] = raw_df['Power'].str.replace(' bhp', '')\n",
    "raw_df['New_Price'] = raw_df['New_Price'].str.replace(' Lakh', '')\n"
   ]
  },
  {
   "cell_type": "code",
   "execution_count": 13,
   "metadata": {},
   "outputs": [],
   "source": [
    "# Mileage = ?\n",
    "raw_df['Engine'] = pd.to_numeric(raw_df['Engine'], errors='coerce')\n",
    "raw_df['Power'] = pd.to_numeric(raw_df['Power'], errors='coerce')\n",
    "raw_df['New_Price'] = pd.to_numeric(raw_df['New_Price'], errors='coerce')"
   ]
  },
  {
   "cell_type": "markdown",
   "metadata": {},
   "source": [
    "### Xử lý cột Mileage\n",
    "Vì ở cột này có loại đơn vị khác nhau, nên chúng ta sẽ chuyển đổi đơn vị km/kg sang kmpl"
   ]
  },
  {
   "cell_type": "code",
   "execution_count": 14,
   "metadata": {},
   "outputs": [],
   "source": [
    "Correct_Mileage= []\n",
    "for i in raw_df.Mileage:\n",
    "    if str(i).endswith('km/kg'):\n",
    "        i = i[:-6]\n",
    "        i = float(i)*1.40\n",
    "        Correct_Mileage.append(float(i))\n",
    "    elif str(i).endswith('kmpl'):\n",
    "        i = i[:-6]\n",
    "        #print(i)\n",
    "        Correct_Mileage.append(float(i))\n",
    "    else:\n",
    "        Correct_Mileage.append(float(i))\n",
    "raw_df['Mileage']=Correct_Mileage\n",
    "raw_df['Mileage'] = pd.to_numeric(raw_df['Mileage'], errors='coerce')\n"
   ]
  },
  {
   "cell_type": "markdown",
   "metadata": {},
   "source": [
    "### Giá trị của các cột có kiểu numeric phân bố như thế nào?\n",
    "- Phần trăm các giá trị bị thiếu là bao nhiêu?\n",
    "- Giá trị lớn nhất? Giá trị nhỏ nhất? Có gì bất thường không?"
   ]
  },
  {
   "cell_type": "markdown",
   "metadata": {},
   "source": [
    "Đối với các cột có kiểu numeric, chúng ta sẽ tính:\n",
    "- Phần trăm (từ 0 tới 100) của giá trị bị thiếu\n",
    "- Giá trị nhỏ nhất\n",
    "- Tứ phân vị 25\n",
    "- Tứ phân vị 50\n",
    "- Tứ phân vị 75\n",
    "- Giá trị lớn nhất\n",
    "\n",
    "Lưu kết quả vào DataFrame `num_col_info_df`, trong đó:\n",
    "- Tên của các cột là tên của các cột có kiểu numeric trong `df`\n",
    "- Tên của các dòng: \"missing_ratio\", \"min\", \"lower_quartile\", \"median\", \"upper_quartile\", \"max\""
   ]
  },
  {
   "cell_type": "code",
   "execution_count": 15,
   "metadata": {},
   "outputs": [],
   "source": [
    "num_col_info_df = None\n",
    "\n",
    "num_col_info_df = raw_df.select_dtypes(include=np.number).copy()\n",
    "\n",
    "def missing_ratio(column):\n",
    "    return ((column.isnull().sum() / column.shape[0]) * 100).round(1)\n",
    "\n",
    "def lower_quartile(column):\n",
    "    return (column.quantile(0.25)).round(1)\n",
    "\n",
    "def median(column):\n",
    "    return (column.median())\n",
    "\n",
    "def upper_quartile(column):\n",
    "    return (column.quantile(0.75)).round(1)\n",
    "\n",
    "# Làm tròn giá trị đến 1 chữ số thập phân\n",
    "num_col_info_df = num_col_info_df.round(1)\n",
    "\n",
    "num_col_info_df = num_col_info_df.agg([missing_ratio, \"min\", lower_quartile, median, upper_quartile, \"max\"])"
   ]
  },
  {
   "cell_type": "code",
   "execution_count": 16,
   "metadata": {},
   "outputs": [
    {
     "data": {
      "text/html": [
       "<div>\n",
       "<style scoped>\n",
       "    .dataframe tbody tr th:only-of-type {\n",
       "        vertical-align: middle;\n",
       "    }\n",
       "\n",
       "    .dataframe tbody tr th {\n",
       "        vertical-align: top;\n",
       "    }\n",
       "\n",
       "    .dataframe thead th {\n",
       "        text-align: right;\n",
       "    }\n",
       "</style>\n",
       "<table border=\"1\" class=\"dataframe\">\n",
       "  <thead>\n",
       "    <tr style=\"text-align: right;\">\n",
       "      <th></th>\n",
       "      <th>Kilometers_Driven</th>\n",
       "      <th>Mileage</th>\n",
       "      <th>Engine</th>\n",
       "      <th>Power</th>\n",
       "      <th>Seats</th>\n",
       "      <th>New_Price</th>\n",
       "      <th>Price</th>\n",
       "    </tr>\n",
       "  </thead>\n",
       "  <tbody>\n",
       "    <tr>\n",
       "      <th>missing_ratio</th>\n",
       "      <td>0.0</td>\n",
       "      <td>0.0</td>\n",
       "      <td>0.6</td>\n",
       "      <td>2.4</td>\n",
       "      <td>0.7</td>\n",
       "      <td>86.4</td>\n",
       "      <td>17.0</td>\n",
       "    </tr>\n",
       "    <tr>\n",
       "      <th>min</th>\n",
       "      <td>171.0</td>\n",
       "      <td>0.0</td>\n",
       "      <td>72.0</td>\n",
       "      <td>34.2</td>\n",
       "      <td>0.0</td>\n",
       "      <td>3.9</td>\n",
       "      <td>0.4</td>\n",
       "    </tr>\n",
       "    <tr>\n",
       "      <th>lower_quartile</th>\n",
       "      <td>34000.0</td>\n",
       "      <td>15.0</td>\n",
       "      <td>1198.0</td>\n",
       "      <td>75.0</td>\n",
       "      <td>5.0</td>\n",
       "      <td>7.9</td>\n",
       "      <td>3.5</td>\n",
       "    </tr>\n",
       "    <tr>\n",
       "      <th>median</th>\n",
       "      <td>53429.0</td>\n",
       "      <td>18.0</td>\n",
       "      <td>1493.0</td>\n",
       "      <td>94.0</td>\n",
       "      <td>5.0</td>\n",
       "      <td>11.5</td>\n",
       "      <td>5.6</td>\n",
       "    </tr>\n",
       "    <tr>\n",
       "      <th>upper_quartile</th>\n",
       "      <td>73000.0</td>\n",
       "      <td>21.0</td>\n",
       "      <td>1968.0</td>\n",
       "      <td>138.1</td>\n",
       "      <td>5.0</td>\n",
       "      <td>24.0</td>\n",
       "      <td>10.0</td>\n",
       "    </tr>\n",
       "    <tr>\n",
       "      <th>max</th>\n",
       "      <td>6500000.0</td>\n",
       "      <td>47.0</td>\n",
       "      <td>5998.0</td>\n",
       "      <td>616.0</td>\n",
       "      <td>10.0</td>\n",
       "      <td>99.9</td>\n",
       "      <td>160.0</td>\n",
       "    </tr>\n",
       "  </tbody>\n",
       "</table>\n",
       "</div>"
      ],
      "text/plain": [
       "                Kilometers_Driven  Mileage  Engine  Power  Seats  New_Price  \\\n",
       "missing_ratio                 0.0      0.0     0.6    2.4    0.7       86.4   \n",
       "min                         171.0      0.0    72.0   34.2    0.0        3.9   \n",
       "lower_quartile            34000.0     15.0  1198.0   75.0    5.0        7.9   \n",
       "median                    53429.0     18.0  1493.0   94.0    5.0       11.5   \n",
       "upper_quartile            73000.0     21.0  1968.0  138.1    5.0       24.0   \n",
       "max                     6500000.0     47.0  5998.0  616.0   10.0       99.9   \n",
       "\n",
       "                Price  \n",
       "missing_ratio    17.0  \n",
       "min               0.4  \n",
       "lower_quartile    3.5  \n",
       "median            5.6  \n",
       "upper_quartile   10.0  \n",
       "max             160.0  "
      ]
     },
     "execution_count": 16,
     "metadata": {},
     "output_type": "execute_result"
    }
   ],
   "source": [
    "num_col_info_df"
   ]
  },
  {
   "cell_type": "markdown",
   "metadata": {},
   "source": [
    "#### Có điều bất thường là: \n",
    "- New_Price có tỉ lệ mất mát rất cao lên đến 86.4%\n",
    "- Giá trị max của Kilometers_Driven là nhiễu.\n",
    "\n",
    "=> Vậy chúng ta xử lý bằng cách xóa hoàn toàn cột New_Price."
   ]
  },
  {
   "cell_type": "markdown",
   "metadata": {},
   "source": [
    "### Xóa giá trị max đang là nhiễu"
   ]
  },
  {
   "cell_type": "code",
   "execution_count": 17,
   "metadata": {},
   "outputs": [],
   "source": [
    "raw_df = raw_df[raw_df['Kilometers_Driven'] != 6500000]"
   ]
  },
  {
   "cell_type": "markdown",
   "metadata": {},
   "source": [
    "#### Xóa cột có tỉ lệ giá trị bị thiếu lớn hơn 75%"
   ]
  },
  {
   "cell_type": "code",
   "execution_count": 18,
   "metadata": {},
   "outputs": [],
   "source": [
    "def drop_missing_features(df: pd.DataFrame, missing_lst: dict = dict(num_col_info_df.iloc[0]), threshold: float =75.0) -> pd.DataFrame:\n",
    "    for col, missing_rate in missing_lst.items():\n",
    "        if missing_rate > threshold:\n",
    "            del df[col]\n",
    "    return df"
   ]
  },
  {
   "cell_type": "code",
   "execution_count": 19,
   "metadata": {},
   "outputs": [],
   "source": [
    "raw_df = drop_missing_features(raw_df)"
   ]
  },
  {
   "cell_type": "markdown",
   "metadata": {},
   "source": [
    "### Xử lý những dòng bị mất giá trị bằng cách tìm các dòng khác có cùng tên xe và thay thế giá trị của dòng khác vào dòng bị mất"
   ]
  },
  {
   "cell_type": "code",
   "execution_count": 20,
   "metadata": {},
   "outputs": [],
   "source": [
    "\n",
    "numeric_col_process = ['Mileage', 'Engine', 'Power', 'Seats', 'Price']"
   ]
  },
  {
   "cell_type": "code",
   "execution_count": 21,
   "metadata": {},
   "outputs": [],
   "source": [
    "for col in numeric_col_process:\n",
    "    rows_with_nan = raw_df[raw_df[col].isna()]\n",
    "\n",
    "# Duyệt qua từng dòng có NaN trong col\n",
    "for index, row in rows_with_nan.iterrows():\n",
    "    # Tìm dòng có 'Name' trùng với dòng hiện tại\n",
    "    matched_rows = raw_df[(raw_df['Name'] == row['Name']) & (~raw_df[col].isna())]\n",
    "    if not matched_rows.empty:\n",
    "        # Nếu tìm thấy ít nhất một dòng trùng khớp\n",
    "        matched_row = matched_rows.iloc[0]\n",
    "        # Thay thế giá trị NaN trong col bằng giá trị tương ứng trong dòng trùng khớp\n",
    "        raw_df.at[index, col] = matched_row[col]"
   ]
  },
  {
   "cell_type": "markdown",
   "metadata": {},
   "source": [
    "#### Các dòng còn lại có thể sẽ không có giá nên nhóm sẽ thay bằng median để ít làm ảnh hưởng đến dữ liệu nhất có thể"
   ]
  },
  {
   "cell_type": "code",
   "execution_count": 22,
   "metadata": {},
   "outputs": [],
   "source": [
    "for col in numeric_col_process:\n",
    "    raw_df[col] = raw_df[col].fillna(raw_df[col].median())\n"
   ]
  },
  {
   "cell_type": "markdown",
   "metadata": {},
   "source": [
    "### Giá trị của các cột có kiểu categorical phân bố như thế nào?\n",
    "- Phần trăm giá trị bị thiếu là bao nhiêu?\n",
    "- Có bao nhiêu giá trị phân biệt? Hiển thị một vài giá trị\n",
    "- Có gì bất thường không?"
   ]
  },
  {
   "cell_type": "markdown",
   "metadata": {},
   "source": [
    "Đối với các cột có kiểu categorical, chúng ta sẽ tính:\n",
    "- Phần trăm (từ 0 tới 100) của giá trị bị thiếu\n",
    "- Số lượng giá trị (giá trị phân biệt, không xét các giá trị bị thiếu)\n",
    "Lưu kết quả vào DataFrame num_col_info_df, trong đó:\n",
    "- Tên của các cột là tên của các cột có kiểu không phải numeric trong `df`\n",
    "- Tên của các dòng: \"missing_ratio\", \"num_values\""
   ]
  },
  {
   "cell_type": "code",
   "execution_count": 23,
   "metadata": {},
   "outputs": [
    {
     "data": {
      "text/html": [
       "<div>\n",
       "<style scoped>\n",
       "    .dataframe tbody tr th:only-of-type {\n",
       "        vertical-align: middle;\n",
       "    }\n",
       "\n",
       "    .dataframe tbody tr th {\n",
       "        vertical-align: top;\n",
       "    }\n",
       "\n",
       "    .dataframe thead th {\n",
       "        text-align: right;\n",
       "    }\n",
       "</style>\n",
       "<table border=\"1\" class=\"dataframe\">\n",
       "  <thead>\n",
       "    <tr style=\"text-align: right;\">\n",
       "      <th></th>\n",
       "      <th>Name</th>\n",
       "      <th>Location</th>\n",
       "      <th>Year</th>\n",
       "      <th>Fuel_Type</th>\n",
       "      <th>Transmission</th>\n",
       "      <th>Owner_Type</th>\n",
       "      <th>Company name</th>\n",
       "    </tr>\n",
       "  </thead>\n",
       "  <tbody>\n",
       "    <tr>\n",
       "      <th>missing_ratio</th>\n",
       "      <td>0.0</td>\n",
       "      <td>0.0</td>\n",
       "      <td>0.0</td>\n",
       "      <td>0.0</td>\n",
       "      <td>0.0</td>\n",
       "      <td>0.0</td>\n",
       "      <td>0.0</td>\n",
       "    </tr>\n",
       "    <tr>\n",
       "      <th>num_values</th>\n",
       "      <td>2041</td>\n",
       "      <td>11</td>\n",
       "      <td>23</td>\n",
       "      <td>5</td>\n",
       "      <td>2</td>\n",
       "      <td>4</td>\n",
       "      <td>35</td>\n",
       "    </tr>\n",
       "    <tr>\n",
       "      <th>value_ratios</th>\n",
       "      <td>{'Mahindra XUV500 W8 2WD': 0.8, 'Maruti Swift ...</td>\n",
       "      <td>{'Mumbai': 13.1, 'Hyderabad': 12.1, 'Coimbator...</td>\n",
       "      <td>{'2015': 12.8, '2014': 12.8, '2016': 12.2, '20...</td>\n",
       "      <td>{'Diesel': 53.1, 'Petrol': 45.8, 'CNG': 0.9, '...</td>\n",
       "      <td>{'Manual': 71.8, 'Automatic': 28.2}</td>\n",
       "      <td>{'First': 82.1, 'Second': 15.9, 'Third': 1.9, ...</td>\n",
       "      <td>{'Maruti': 19.9, 'Hyundai': 18.5, 'Honda': 10....</td>\n",
       "    </tr>\n",
       "  </tbody>\n",
       "</table>\n",
       "</div>"
      ],
      "text/plain": [
       "                                                            Name  \\\n",
       "missing_ratio                                                0.0   \n",
       "num_values                                                  2041   \n",
       "value_ratios   {'Mahindra XUV500 W8 2WD': 0.8, 'Maruti Swift ...   \n",
       "\n",
       "                                                        Location  \\\n",
       "missing_ratio                                                0.0   \n",
       "num_values                                                    11   \n",
       "value_ratios   {'Mumbai': 13.1, 'Hyderabad': 12.1, 'Coimbator...   \n",
       "\n",
       "                                                            Year  \\\n",
       "missing_ratio                                                0.0   \n",
       "num_values                                                    23   \n",
       "value_ratios   {'2015': 12.8, '2014': 12.8, '2016': 12.2, '20...   \n",
       "\n",
       "                                                       Fuel_Type  \\\n",
       "missing_ratio                                                0.0   \n",
       "num_values                                                     5   \n",
       "value_ratios   {'Diesel': 53.1, 'Petrol': 45.8, 'CNG': 0.9, '...   \n",
       "\n",
       "                                      Transmission  \\\n",
       "missing_ratio                                  0.0   \n",
       "num_values                                       2   \n",
       "value_ratios   {'Manual': 71.8, 'Automatic': 28.2}   \n",
       "\n",
       "                                                      Owner_Type  \\\n",
       "missing_ratio                                                0.0   \n",
       "num_values                                                     4   \n",
       "value_ratios   {'First': 82.1, 'Second': 15.9, 'Third': 1.9, ...   \n",
       "\n",
       "                                                    Company name  \n",
       "missing_ratio                                                0.0  \n",
       "num_values                                                    35  \n",
       "value_ratios   {'Maruti': 19.9, 'Hyundai': 18.5, 'Honda': 10....  "
      ]
     },
     "execution_count": 23,
     "metadata": {},
     "output_type": "execute_result"
    }
   ],
   "source": [
    "cat_col_info_df = raw_df.select_dtypes(exclude=[np.number])\n",
    "\n",
    "def missing_ratio(column):\n",
    "    return ((column.isnull().sum() / column.shape[0]) * 100).round(1)\n",
    "\n",
    "# Hàm tính số lượng giá trị\n",
    "def num_values(column):\n",
    "    return column.nunique()\n",
    "\n",
    "# Hàm tính tỷ lệ của từng giá trị\n",
    "def value_ratios(column):\n",
    "    value_counts = column.value_counts() #Đếm số lượng của mỗi loại value trong 1 cột\n",
    "    non_missing_count = value_counts.sum() #Tổng số lượng của tất cả value trong 1 cột\n",
    "    ratios = (value_counts / non_missing_count * 100).round(1) #Lưu tỉ lệ vào Series\n",
    "    ratios_dict = ratios.to_dict()\n",
    "    sorted_ratios_dict = dict(sorted(ratios_dict.items(), key=lambda item: item[1], reverse=True))\n",
    "    return sorted_ratios_dict\n",
    "\n",
    "cat_col_info_df = cat_col_info_df.agg([missing_ratio, num_values, value_ratios])\n",
    "cat_col_info_df"
   ]
  },
  {
   "cell_type": "markdown",
   "metadata": {},
   "source": [
    "### Lưu dữ liệu đã xử lí"
   ]
  },
  {
   "cell_type": "code",
   "execution_count": 26,
   "metadata": {},
   "outputs": [],
   "source": [
    "raw_df.to_csv(\"../data/processed/used_cars_data_processed.csv\" , index=False)"
   ]
  },
  {
   "cell_type": "code",
   "execution_count": null,
   "metadata": {},
   "outputs": [],
   "source": []
  }
 ],
 "metadata": {
  "kernelspec": {
   "display_name": "Python 3",
   "language": "python",
   "name": "python3"
  },
  "language_info": {
   "codemirror_mode": {
    "name": "ipython",
    "version": 3
   },
   "file_extension": ".py",
   "mimetype": "text/x-python",
   "name": "python",
   "nbconvert_exporter": "python",
   "pygments_lexer": "ipython3",
   "version": "3.11.9"
  }
 },
 "nbformat": 4,
 "nbformat_minor": 2
}
