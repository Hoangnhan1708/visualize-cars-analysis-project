{
 "cells": [
  {
   "cell_type": "markdown",
   "metadata": {},
   "source": [
    "<div style=\"text-align: center; background-color: #0A6EBD; font-family: 'Trebuchet MS', Arial, sans-serif; color: white; padding: 20px; font-size: 40px; font-weight: bold; border-radius: 0 0 0 0; box-shadow: 0px 6px 8px rgba(0, 0, 0, 0.2);\">\n",
    "  Lab 01 - Data visualization with Python @ FIT-HCMUS, VNU-HCM 📌\n",
    "</div>"
   ]
  },
  {
   "cell_type": "markdown",
   "metadata": {},
   "source": [
    "<div style=\"text-align: center; background-color: #b1d1ff; font-family: 'Trebuchet MS', Arial, sans-serif; color: white; padding: 20px; font-size: 40px; font-weight: bold; border-radius: 0 0 0 0; box-shadow: 0px 6px 8px rgba(0, 0, 0, 0.2);\">\n",
    "  Stage 01 - Data collecting 📌\n",
    "</div>"
   ]
  },
  {
   "cell_type": "markdown",
   "metadata": {},
   "source": [
    "# Giới thiệu"
   ]
  },
  {
   "cell_type": "markdown",
   "metadata": {},
   "source": [
    "### Bối cảnh hoặc câu chuyện chính có ý nghĩa khiến nhóm của bạn chọn chủ đề này để tìm dữ liệu phù hợp cho dự án này.\n",
    "\n",
    "- Trong một buổi họp nhóm, nhóm trưởng Trương Hoàng Nhân là người vốn có sở thích với xe cộ, đặc biệt là các dòng xe 4 bánh, nên đã đề xuất nhóm làm về chủ đề ô tô. Cả nhóm đã đồng thuận và tiến hành tìm dataset phù hợp trên trang kaggle, nhóm đã tìm thấy Cars Dataset có chứa đầy đủ các dữ liệu quan trọng của 1 chiếc ô tô.\n",
    "\n"
   ]
  },
  {
   "cell_type": "markdown",
   "metadata": {},
   "source": [
    "### Chủ đề chính của tập dữ liệu\n",
    "\n",
    "- Tập dữ liệu này thường được sử dụng cho nhiều mục đích khác nhau như nghiên cứu thị trường, phát triển sản phẩm, mô hình dự đoán, đánh giá rủi ro và nghiên cứu học thuật trong các lĩnh vực như kỹ thuật vận tải, kỹ thuật ô tô, khoa học dữ liệu và học máy. Nhiều tổ chức, bao gồm các nhà sản xuất ô tô, tổ chức nghiên cứu, cơ quan chính phủ và nhà cung cấp dữ liệu, góp phần tạo nên và phân phối bộ dữ liệu về ô tô.\n"
   ]
  },
  {
   "cell_type": "markdown",
   "metadata": {},
   "source": [
    "### Mọi người xây dựng dữ liệu này như thế nào? Phương pháp là gì?\n",
    "\n",
    "- Data crawl từ các trang thông tin sản phẩm của các hãng xe\n"
   ]
  },
  {
   "cell_type": "markdown",
   "metadata": {},
   "source": [
    "### Chúng ta sử dụng tập dữ liệu này như thế nào? Điều này có hợp pháp để sử dụng trong giáo dục?\n",
    "\n",
    "- CC0: Public Domain là một loại giấy phép sử dụng và phân phối tác phẩm mà tác giả (hoặc chủ sở hữu) chấp nhận việc giải phóng tác phẩm của mình ra toàn cầu, bằng cách bỏ đi mọi quyền về tác phẩm đó. Điều này có nghĩa là bất kỳ ai cũng có thể sử dụng, sửa đổi, phân phối và tái sử dụng tác phẩm đó cho bất kỳ mục đích nào, mà không cần phải yêu cầu sự đồng ý của tác giả hoặc phải trả tiền.\n",
    "\n",
    "- Mục tiêu của CC0: Public Domain là tạo điều kiện thuận lợi nhất cho sự sáng tạo, khuyến khích sự chia sẻ thông tin và tác phẩm, và giúp tác phẩm được phát triển một cách tự do mà không bị ràng buộc bởi các hạn chế pháp lý. Đây là một giải pháp đối với những người muốn giải phóng tác phẩm của họ ra công cộng mà không muốn đặt bất kỳ ràng buộc nào lên tác phẩm đó."
   ]
  }
 ],
 "metadata": {
  "kernelspec": {
   "display_name": "Python 3",
   "language": "python",
   "name": "python3"
  },
  "language_info": {
   "codemirror_mode": {
    "name": "ipython",
    "version": 3
   },
   "file_extension": ".py",
   "mimetype": "text/x-python",
   "name": "python",
   "nbconvert_exporter": "python",
   "pygments_lexer": "ipython3",
   "version": "3.11.8"
  }
 },
 "nbformat": 4,
 "nbformat_minor": 2
}
